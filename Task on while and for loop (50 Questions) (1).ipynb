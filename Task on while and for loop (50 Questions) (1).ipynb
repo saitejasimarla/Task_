{
 "cells": [
  {
   "cell_type": "markdown",
   "id": "491a07f5",
   "metadata": {},
   "source": [
    "### 1)To the power of __"
   ]
  },
  {
   "cell_type": "markdown",
   "id": "14dda5aa",
   "metadata": {},
   "source": [
    "Create a function that takes a base number and an exponent number and returns the calculation.\n",
    "\n",
    "Examples\n",
    "calculate_exponent(5, 5) ➞ 3125\n",
    "\n",
    "calculate_exponent(10, 10) ➞ 10000000000\n",
    "\n",
    "calculate_exponent(3, 3) ➞ 27"
   ]
  },
  {
   "cell_type": "code",
   "execution_count": 9,
   "id": "0d58fb06",
   "metadata": {},
   "outputs": [
    {
     "name": "stdout",
     "output_type": "stream",
     "text": [
      "10\n",
      "10\n",
      "10000000000\n"
     ]
    }
   ],
   "source": [
    "#while loop\n",
    "base= int(input())\n",
    "exp = int(input())\n",
    "result = base\n",
    "i = 1\n",
    "while i<exp:\n",
    "    result*=base\n",
    "    i+=1\n",
    "    \n",
    "print(result)"
   ]
  },
  {
   "cell_type": "code",
   "execution_count": 10,
   "id": "59ffc0fa",
   "metadata": {},
   "outputs": [
    {
     "name": "stdout",
     "output_type": "stream",
     "text": [
      "10\n",
      "10\n",
      "10000000000\n"
     ]
    }
   ],
   "source": [
    "#for loop\n",
    "base, exp =int(input ()), int(input ())\n",
    "result = 1\n",
    "for i in range(exp):\n",
    "    result *= base\n",
    "print(result)  "
   ]
  },
  {
   "cell_type": "markdown",
   "id": "8bd102a9",
   "metadata": {},
   "source": [
    "### 2)Find the Largest Number in a List"
   ]
  },
  {
   "cell_type": "markdown",
   "id": "a924caea",
   "metadata": {},
   "source": [
    "Create a function that takes a list of numbers. Return the largest number in the list.\n",
    "\n",
    "Examples\n",
    "findLargestNum([4, 5, 1, 3]) ➞ 5\n",
    "\n",
    "findLargestNum([300, 200, 600, 150]) ➞ 600\n",
    "\n",
    "findLargestNum([1000, 1001, 857, 1]) ➞ 1001"
   ]
  },
  {
   "cell_type": "code",
   "execution_count": 12,
   "id": "34c46227",
   "metadata": {},
   "outputs": [
    {
     "name": "stdout",
     "output_type": "stream",
     "text": [
      "5\n"
     ]
    }
   ],
   "source": [
    "#while loop\n",
    "num=[4, 5, 1, 3]\n",
    "largest=0\n",
    "i=0\n",
    "while i <len(num):\n",
    "    if num[i]>largest:\n",
    "        largest=num[i]\n",
    "    i+=1\n",
    "print(largest)      "
   ]
  },
  {
   "cell_type": "code",
   "execution_count": 13,
   "id": "831e542d",
   "metadata": {},
   "outputs": [
    {
     "name": "stdout",
     "output_type": "stream",
     "text": [
      "5\n"
     ]
    }
   ],
   "source": [
    "#for loop\n",
    "num=[4, 5, 1, 3]\n",
    "largest=0\n",
    "for i in num:\n",
    "    if i>largest:\n",
    "        largest=i\n",
    "print(largest)"
   ]
  },
  {
   "cell_type": "markdown",
   "id": "f174626a",
   "metadata": {},
   "source": [
    "### 3)Find the Smallest Number in a List"
   ]
  },
  {
   "cell_type": "markdown",
   "id": "6ce65b40",
   "metadata": {},
   "source": [
    "Create a function that takes a list of numbers and returns the smallest number in the list.\n",
    "\n",
    "Examples\n",
    "find_smallest_num([34, 15, 88, 2]) ➞ 2\n",
    "\n",
    "find_smallest_num([34, -345, -1, 100]) ➞ -345\n",
    "\n",
    "find_smallest_num([-76, 1.345, 1, 0]) ➞ -76\n",
    "\n",
    "find_smallest_num([0.4356, 0.8795, 0.5435, -0.9999]) ➞ -0.9999\n",
    "\n",
    "find_smallest_num([7, 7, 7]) ➞ 7"
   ]
  },
  {
   "cell_type": "code",
   "execution_count": 15,
   "id": "1fc70254",
   "metadata": {},
   "outputs": [
    {
     "name": "stdout",
     "output_type": "stream",
     "text": [
      "2\n"
     ]
    }
   ],
   "source": [
    "#while loop\n",
    "num=[34, 15, 88, 2]\n",
    "smallest=float('inf')\n",
    "i=0\n",
    "while i<len(num):\n",
    "    if num[i]<smallest:\n",
    "        smallest=num[i]\n",
    "    i+=1\n",
    "print(smallest)"
   ]
  },
  {
   "cell_type": "code",
   "execution_count": 17,
   "id": "c48de8c4",
   "metadata": {},
   "outputs": [
    {
     "name": "stdout",
     "output_type": "stream",
     "text": [
      "2\n"
     ]
    }
   ],
   "source": [
    "#for loop\n",
    "num=[34, 15, 88, 2]\n",
    "smallest=float('inf')\n",
    "for i in num:\n",
    "    if i<smallest:\n",
    "        smallest=i\n",
    "print(smallest)"
   ]
  },
  {
   "cell_type": "markdown",
   "id": "0adb1719",
   "metadata": {},
   "source": [
    "### 4)Difference of Max and Min Numbers in List"
   ]
  },
  {
   "cell_type": "markdown",
   "id": "1b14b011",
   "metadata": {},
   "source": [
    "Create a function that takes a list and returns the difference between the biggest and smallest numbers.\n",
    "\n",
    "Examples\n",
    "\n",
    "difference_max_min([10, 4, 1, 4, -10, -50, 32, 21]) ➞ 82\n",
    "#### Smallest number is -50, biggest is 32.\n",
    "\n",
    "difference_max_min([44, 32, 86, 19]) ➞ 67\n",
    "#### Smallest number is 19, biggest is 86."
   ]
  },
  {
   "cell_type": "code",
   "execution_count": 19,
   "id": "60995a04",
   "metadata": {},
   "outputs": [
    {
     "name": "stdout",
     "output_type": "stream",
     "text": [
      "-82\n"
     ]
    }
   ],
   "source": [
    "#while loop\n",
    "nums=[10, 4, 1, 4, -10, -50, 32, 21]\n",
    "largest=0\n",
    "smallest=0\n",
    "result=0\n",
    "i=0\n",
    "while i <len(nums):\n",
    "    if nums[i]<smallest:\n",
    "        smallest=nums[i]\n",
    "    if nums[i]>largest:\n",
    "        largest=nums[i]    \n",
    "    i+=1\n",
    "    result=smallest-largest\n",
    "print(result)"
   ]
  },
  {
   "cell_type": "code",
   "execution_count": 33,
   "id": "0176272a",
   "metadata": {},
   "outputs": [
    {
     "name": "stdout",
     "output_type": "stream",
     "text": [
      "-82\n"
     ]
    }
   ],
   "source": [
    "#for loop\n",
    "nums=[10, 4, 1, 4, -10, -50, 32, 21]\n",
    "largest=0\n",
    "smallest=0\n",
    "result=0\n",
    "for i in nums:\n",
    "    if i<smallest:\n",
    "        smallest=i\n",
    "    if i>largest:\n",
    "        largest=i\n",
    "    result=smallest-largest\n",
    "print( result)"
   ]
  },
  {
   "cell_type": "markdown",
   "id": "7fe63b18",
   "metadata": {},
   "source": [
    "### 5)Get the Sum of All List Elements"
   ]
  },
  {
   "cell_type": "markdown",
   "id": "3f731945",
   "metadata": {},
   "source": [
    "Create a function that takes a list and returns the sum of all numbers in the list.\n",
    "\n",
    "Examples\n",
    "get_sum_of_elements([2, 7, 4]) ➞ 13\n",
    "\n",
    "get_sum_of_elements([45, 3, 0]) ➞ 48\n",
    "\n",
    "get_sum_of_elements([-2, 84, 23]) ➞ 105"
   ]
  },
  {
   "cell_type": "code",
   "execution_count": 34,
   "id": "b2b0b8fc",
   "metadata": {},
   "outputs": [
    {
     "name": "stdout",
     "output_type": "stream",
     "text": [
      "Sum of list elements: 13\n"
     ]
    }
   ],
   "source": [
    "#while loop\n",
    "numbers = [2,7,4]\n",
    "totalsum = 0\n",
    "index = 0\n",
    "while index < len(numbers):\n",
    "    totalsum += numbers[index]\n",
    "    index += 1\n",
    "print(\"Sum of list elements:\", totalsum)"
   ]
  },
  {
   "cell_type": "code",
   "execution_count": 37,
   "id": "37bbb523",
   "metadata": {},
   "outputs": [
    {
     "name": "stdout",
     "output_type": "stream",
     "text": [
      "Sum of list elements: 13\n"
     ]
    }
   ],
   "source": [
    "#for loop\n",
    "num=[2, 7, 4]\n",
    "totalsum=0\n",
    "for i in num:\n",
    "    totalsum+=i\n",
    "print(\"Sum of list elements:\", totalsum)"
   ]
  },
  {
   "cell_type": "markdown",
   "id": "ab690945",
   "metadata": {},
   "source": [
    "### 6)Convert Number to String of Dashes"
   ]
  },
  {
   "cell_type": "markdown",
   "id": "1844389c",
   "metadata": {},
   "source": [
    "Create a function that takes a number (from 1 - 60) and returns a corresponding string of hyphens.\n",
    "\n",
    "Examples\n",
    "num_to_dashes(1) ➞ \"-\"\n",
    "\n",
    "num_to_dashes(5) ➞ \"-----\"\n",
    "\n",
    "num_to_dashes(3) ➞ \"---\""
   ]
  },
  {
   "cell_type": "code",
   "execution_count": 36,
   "id": "1c396d1e",
   "metadata": {},
   "outputs": [
    {
     "name": "stdout",
     "output_type": "stream",
     "text": [
      "Enter a number: 5\n",
      "-----\n"
     ]
    }
   ],
   "source": [
    "#while loop\n",
    "num = int(input(\"Enter a number: \"))\n",
    "dashes = \"\"\n",
    "\n",
    "while num > 0:\n",
    "    dashes += \"-\"\n",
    "    num -= 1\n",
    "\n",
    "print(dashes)"
   ]
  },
  {
   "cell_type": "code",
   "execution_count": 32,
   "id": "113bbd32",
   "metadata": {},
   "outputs": [
    {
     "name": "stdout",
     "output_type": "stream",
     "text": [
      "Enter the num : 5\n",
      "-----\n"
     ]
    }
   ],
   "source": [
    "#for loop\n",
    "num=int(input('Enter the num : '))\n",
    "dashes='' \n",
    "for i in range(num):\n",
    "    dashes='-'*num\n",
    "    result= dashes\n",
    "print(dashes)"
   ]
  },
  {
   "cell_type": "markdown",
   "id": "27d2b0e0",
   "metadata": {},
   "source": [
    "### 7)Edaaaaabit"
   ]
  },
  {
   "cell_type": "markdown",
   "id": "49e9c1b2",
   "metadata": {},
   "source": [
    "Write a function that takes an integer and returns a string with the given number of \"a\"s in Edabit.\n",
    "\n",
    "Examples\n",
    "how_many_times(5) ➞ \"Edaaaaabit\"\n",
    "\n",
    "how_many_times(0) ➞ \"Edbit\"\n",
    "\n",
    "how_many_times(12) ➞ \"Edaaaaaaaaaaaabit\""
   ]
  },
  {
   "cell_type": "code",
   "execution_count": 31,
   "id": "48daf0d7",
   "metadata": {},
   "outputs": [
    {
     "name": "stdout",
     "output_type": "stream",
     "text": [
      "Enter the num : 12\n",
      "Edaaaaaaaaaaaabit\n"
     ]
    }
   ],
   "source": [
    "#while loop\n",
    "num = int(input('Enter the num : '))\n",
    "result = ''\n",
    "while num >= 1:\n",
    "    result = \"a\" + result\n",
    "    num -= 1\n",
    "result = \"Ed\" + result + \"bit\"\n",
    "print(result)"
   ]
  },
  {
   "cell_type": "code",
   "execution_count": 43,
   "id": "05d0c591",
   "metadata": {},
   "outputs": [],
   "source": [
    "#for loop"
   ]
  },
  {
   "cell_type": "markdown",
   "id": "8bdb1841",
   "metadata": {},
   "source": [
    "### 8)Buggy Code"
   ]
  },
  {
   "cell_type": "markdown",
   "id": "410293af",
   "metadata": {},
   "source": [
    "Mubashir created an infinite loop! Help him by fixing the code in the code tab to pass this challenge. Look at the examples below to get an idea of what the function should do.\n",
    "\n",
    "Examples\n",
    "print_list(1) ➞ [1]\n",
    "\n",
    "print_list(3) ➞ [1, 2, 3]\n",
    "\n",
    "print_list(6) ➞ [1, 2, 3, 4, 5, 6]"
   ]
  },
  {
   "cell_type": "code",
   "execution_count": 49,
   "id": "7668ebef",
   "metadata": {},
   "outputs": [
    {
     "name": "stdout",
     "output_type": "stream",
     "text": [
      "Enter a number :3\n",
      "[1, 2, 3]\n"
     ]
    }
   ],
   "source": [
    "#while loop\n",
    "x=int(input('Enter a number :'))\n",
    "y=[]\n",
    "i=1\n",
    "while i<=x:\n",
    "    y.append(i)\n",
    "    i+=1\n",
    "print(y)"
   ]
  },
  {
   "cell_type": "code",
   "execution_count": 44,
   "id": "62a2adff",
   "metadata": {},
   "outputs": [
    {
     "name": "stdout",
     "output_type": "stream",
     "text": [
      "Enter a number :3\n",
      "[1, 2, 3]\n"
     ]
    }
   ],
   "source": [
    "#for loop\n",
    "x=int(input('Enter a number :'))\n",
    "y=[]\n",
    "for z in range(1,x+1):\n",
    "    y.append(z)\n",
    "print(y)"
   ]
  },
  {
   "cell_type": "markdown",
   "id": "6a42d924",
   "metadata": {},
   "source": [
    "### 9)Check if All Values Are True"
   ]
  },
  {
   "cell_type": "markdown",
   "id": "5519e727",
   "metadata": {},
   "source": [
    "Create a function that returns True if all parameters are truthy, and False otherwise.\n",
    "\n",
    "Examples\n",
    "all_truthy(True, True, True) ➞ True\n",
    "\n",
    "all_truthy(True, False, True) ➞ False\n",
    "\n",
    "all_truthy(5, 4, 3, 2, 1, 0) ➞ False"
   ]
  },
  {
   "cell_type": "code",
   "execution_count": 45,
   "id": "3c3488fa",
   "metadata": {},
   "outputs": [
    {
     "name": "stdout",
     "output_type": "stream",
     "text": [
      "True\n"
     ]
    }
   ],
   "source": [
    "#while loop\n",
    "a=[True, True, True] \n",
    "result=True\n",
    "i=0\n",
    "while i<len(a):\n",
    "    if not a[i]:\n",
    "        result = False\n",
    "        break\n",
    "    i+=1\n",
    "print(result)"
   ]
  },
  {
   "cell_type": "code",
   "execution_count": 1,
   "id": "9cec060b",
   "metadata": {},
   "outputs": [
    {
     "name": "stdout",
     "output_type": "stream",
     "text": [
      "True\n"
     ]
    }
   ],
   "source": [
    "#for loop\n",
    "a=[True, True, True] \n",
    "result=True\n",
    "for i in a:\n",
    "    if not i:\n",
    "        result=False\n",
    "        break\n",
    "print(result) "
   ]
  },
  {
   "cell_type": "markdown",
   "id": "1126bfeb",
   "metadata": {},
   "source": [
    "### 10)Return Last Item"
   ]
  },
  {
   "cell_type": "markdown",
   "id": "37d23d09",
   "metadata": {},
   "source": [
    "Create a function that returns the last value of the last item in a list or string.\n",
    "\n",
    "Examples\n",
    "last_ind([0, 4, 19, 34, 50, -9, 2]) ➞ 2\n",
    "\n",
    "last_ind(\"The quick brown fox jumped over the lazy dog\") ➞ \"g\"\n",
    "\n",
    "last_ind([]) ➞ None"
   ]
  },
  {
   "cell_type": "code",
   "execution_count": 2,
   "id": "02df2399",
   "metadata": {},
   "outputs": [
    {
     "name": "stdout",
     "output_type": "stream",
     "text": [
      "2\n"
     ]
    }
   ],
   "source": [
    "#While loop\n",
    "x=[0, 4, 19, 34, 50, -9, 2]\n",
    "last_value = None\n",
    "index = 0\n",
    "while index < len(x):\n",
    "    last_value = x[index]\n",
    "    index += 1\n",
    "\n",
    "print(last_value)"
   ]
  },
  {
   "cell_type": "code",
   "execution_count": 2,
   "id": "c0acb766",
   "metadata": {},
   "outputs": [
    {
     "name": "stdout",
     "output_type": "stream",
     "text": [
      "2\n"
     ]
    }
   ],
   "source": [
    "#for loop\n",
    "x=[0, 4, 19, 34, 50, -9, 2]\n",
    "\n",
    "for num in x:\n",
    "    last_value=x[-1]\n",
    "print(last_value)"
   ]
  },
  {
   "cell_type": "markdown",
   "id": "264bac4e",
   "metadata": {},
   "source": [
    "### 11)Destructuring Assignment (Ignoring Values)\n",
    "You can assign variables from lists like this:\n",
    "\n",
    "first, _ , last = [1, 2, 8]\n",
    "\n",
    "first   = lst[0]\n",
    "\n",
    "_   = ignores second value (2)\n",
    "\n",
    "last   = lst[-1]\n",
    "\n",
    "print(first) ➞ outputs 1\n",
    "print(last) ➞ outputs 8"
   ]
  },
  {
   "cell_type": "code",
   "execution_count": 5,
   "id": "316a0e4c",
   "metadata": {},
   "outputs": [
    {
     "name": "stdout",
     "output_type": "stream",
     "text": [
      "enter values:1\n",
      "enter values:2\n",
      "enter values:8\n",
      "1\n",
      "8\n"
     ]
    }
   ],
   "source": [
    "#while loop\n",
    "x = []\n",
    "i = 0\n",
    "while i < 3:\n",
    "    x.append(int(input(\"enter values:\")))\n",
    "    i += 1\n",
    "first = x[0]\n",
    "last = x[-1]\n",
    "print(first)\n",
    "print(last)"
   ]
  },
  {
   "cell_type": "code",
   "execution_count": 6,
   "id": "25d689f6",
   "metadata": {},
   "outputs": [
    {
     "name": "stdout",
     "output_type": "stream",
     "text": [
      "1\n",
      "8\n"
     ]
    }
   ],
   "source": [
    "#for loop\n",
    "numbers = [1, 2, 8]\n",
    "for value in numbers:\n",
    "    if value == numbers[0]:\n",
    "        first = value\n",
    "    elif value == numbers[-1]:\n",
    "        last = value\n",
    "print(first)\n",
    "print(last)"
   ]
  },
  {
   "cell_type": "markdown",
   "id": "e602c31e",
   "metadata": {},
   "source": [
    "### 12)Century Crisis\n",
    "Scientists have discovered that in four decades, the world will EXPLODE! It will also take three decades to make a spaceship to travel to a new planet that can hold the entire world population.\n",
    "\n",
    "You must calculate the number of people there will be in three decades from now.\n",
    "\n",
    "The variable P is the world population now.\n",
    "\n",
    "Assume that every month, someone gives birth to more people nP.\n",
    "\n",
    "Return the number of people there will be when the spaceship is complete.\n",
    "\n",
    "Examples\n",
    "\n",
    "future_people(256, 2) ➞ 976\n",
    "\n",
    "future_people(3248, 6) ➞ 5408\n",
    "\n",
    "future_people(5240, 3) ➞ 6320"
   ]
  },
  {
   "cell_type": "code",
   "execution_count": 8,
   "id": "761069d7",
   "metadata": {},
   "outputs": [
    {
     "name": "stdout",
     "output_type": "stream",
     "text": [
      "Enter the population: 256\n",
      "Enter the births per month: 2\n",
      "Number of people in three decades: 976\n"
     ]
    }
   ],
   "source": [
    "#while loop\n",
    "p = int(input(\"Enter the population: \"))\n",
    "np = int(input(\"Enter the births per month: \"))\n",
    "years_in_future = 30\n",
    "months_in_three_decades = years_in_future * 12\n",
    "fp = p\n",
    "months_passed = 0\n",
    "while months_passed < months_in_three_decades:\n",
    "    fp += np\n",
    "    months_passed += 1\n",
    "print(\"Number of people in three decades:\", fp)"
   ]
  },
  {
   "cell_type": "code",
   "execution_count": 11,
   "id": "d9a7258d",
   "metadata": {},
   "outputs": [
    {
     "name": "stdout",
     "output_type": "stream",
     "text": [
      "Enter the current world population: 256\n",
      "Enter the number of births per month: 2\n",
      "Number of people in three decades: 976\n"
     ]
    }
   ],
   "source": [
    "#for loop\n",
    "p = int(input(\"Enter the current world population: \"))\n",
    "np = int(input(\"Enter the number of births per month: \"))\n",
    "years_in_future = 30\n",
    "months_in_three_decades = years_in_future * 12\n",
    "fp = p\n",
    "for months_passed in range(months_in_three_decades):\n",
    "    fp += np\n",
    "print(\"Number of people in three decades:\", fp)"
   ]
  },
  {
   "cell_type": "markdown",
   "id": "5249522c",
   "metadata": {},
   "source": [
    "### 13)Word Numbers!\n",
    "Create a function that returns a number, based on the string provided. Here is a list of all digits:\n",
    "\n",
    "String\tNumber\n",
    "\"one\"\t1\n",
    "\"two\"\t2\n",
    "\"three\"\t3\n",
    "\"four\"\t4\n",
    "\"five\"\t5\n",
    "\"six\"\t6\n",
    "\"seven\"\t7\n",
    "\"eight\"\t8\n",
    "\"nine\"\t9\n",
    "\"zero\"\t0\n",
    "\n",
    "Examples\n",
    "\n",
    "word(\"one\") ➞ 1\n",
    "\n",
    "word(\"two\") ➞ 2\n",
    "\n",
    "word(\"nine\") ➞ 9"
   ]
  },
  {
   "cell_type": "code",
   "execution_count": 19,
   "id": "fb56f90c",
   "metadata": {},
   "outputs": [
    {
     "name": "stdout",
     "output_type": "stream",
     "text": [
      "Enter a number word: nine\n",
      "9\n"
     ]
    }
   ],
   "source": [
    "#while loop\n",
    "words = [\"zero\",\"one\", \"two\", \"three\", \"four\", \"five\", \"six\", \"seven\", \"eight\", \"nine\"]\n",
    "num= input(\"Enter a number word: \")\n",
    "result= 1\n",
    "index = 0\n",
    "while index < len(words):\n",
    "    if num == words[index]:\n",
    "        result = index\n",
    "        break\n",
    "    index += 1\n",
    "if result != -1:\n",
    "    print(result)"
   ]
  },
  {
   "cell_type": "code",
   "execution_count": 14,
   "id": "ce68dbb8",
   "metadata": {},
   "outputs": [
    {
     "name": "stdout",
     "output_type": "stream",
     "text": [
      "9\n"
     ]
    }
   ],
   "source": [
    "#for loop\n",
    "number = {\"one\": 1, \"two\": 2, \"three\": 3, \"four\": 4, \"five\": 5, \"six\": 6, \"seven\": 7, \"eight\": 8, \"nine\": 9, \"zero\": 0}\n",
    "word = 'nine'\n",
    "for i in number:\n",
    "    if i == word:\n",
    "        x = number[i]\n",
    "        break\n",
    "    else:\n",
    "        x = None\n",
    "print(x)"
   ]
  },
  {
   "cell_type": "markdown",
   "id": "ad8e6304",
   "metadata": {},
   "source": [
    "### 14)Count Instances of a Character in a String\n",
    "Create a function that takes two strings as arguments and returns the number of times the first string (the single character) is found in the second string.\n",
    "\n",
    "Examples\n",
    "char_count(\"a\", \"edabit\") ➞ 1\n",
    "\n",
    "char_count(\"c\", \"Chamber of secrets\") ➞ 1\n",
    "\n",
    "char_count(\"b\", \"big fat bubble\") ➞ 4"
   ]
  },
  {
   "cell_type": "code",
   "execution_count": 29,
   "id": "d1106fea",
   "metadata": {},
   "outputs": [
    {
     "name": "stdout",
     "output_type": "stream",
     "text": [
      "Enter a string: big fat bubble\n",
      "Enter the character to count: b\n",
      "4\n"
     ]
    }
   ],
   "source": [
    "#while loop\n",
    "string = input(\"Enter a string: \")\n",
    "char = input(\"Enter the character to count: \")\n",
    "i = 0\n",
    "count = 0\n",
    "while i < len(string):\n",
    "    if string[i] == char:\n",
    "        count += 1\n",
    "    i += 1\n",
    "print(count)"
   ]
  },
  {
   "cell_type": "code",
   "execution_count": 28,
   "id": "af67d5c0",
   "metadata": {},
   "outputs": [
    {
     "name": "stdout",
     "output_type": "stream",
     "text": [
      "4\n"
     ]
    }
   ],
   "source": [
    "#for loop\n",
    "char = \"b\"  \n",
    "string = \"big fat bubble\"\n",
    "count = 0\n",
    "for i in string:\n",
    "    if i == char:\n",
    "        count += 1\n",
    "print(count)"
   ]
  },
  {
   "cell_type": "markdown",
   "id": "bc008c71",
   "metadata": {},
   "source": [
    "### 15)Find the Index\n",
    "Create a function that takes a list and a string as arguments and returns the index of the string.\n",
    "\n",
    "Examples\n",
    "\n",
    "find_index([\"hi\", \"edabit\", \"fgh\", \"abc\"], \"fgh\") ➞ 2\n",
    "\n",
    "find_index([\"Red\", \"blue\", \"Blue\", \"Green\"], \"blue\") ➞ 1\n",
    "\n",
    "find_index([\"a\", \"g\", \"y\", \"d\"], \"d\") ➞ 3\n",
    "\n",
    "find_index([\"Pineapple\", \"Orange\", \"Grape\", \"Apple\"], \"Pineapple\") ➞ 0"
   ]
  },
  {
   "cell_type": "code",
   "execution_count": 33,
   "id": "9114c664",
   "metadata": {},
   "outputs": [
    {
     "name": "stdout",
     "output_type": "stream",
     "text": [
      "Enter a string: pineapple\n",
      "The string 'pineapple' is found at index 1.\n"
     ]
    }
   ],
   "source": [
    "#while loop\n",
    "fruits = [([\"Pineapple\", \"Orange\", \"Grape\", \"Apple\"], \"Pineapple\")]\n",
    "string = input(\"Enter a string: \")\n",
    "index = 0\n",
    "found= 1\n",
    "while index < len(fruits):\n",
    "    if fruits[index] == string:\n",
    "        found = index\n",
    "        break\n",
    "    index += 1\n",
    "if found != -1:\n",
    "    print(f\"The string '{string}' is found at index {found}.\")\n",
    "else:\n",
    "    print(f\"The string '{string}' is not found in the list.\")"
   ]
  },
  {
   "cell_type": "code",
   "execution_count": 38,
   "id": "c022f478",
   "metadata": {},
   "outputs": [
    {
     "name": "stdout",
     "output_type": "stream",
     "text": [
      "Enter a string: pineapple\n",
      "1\n"
     ]
    }
   ],
   "source": [
    "#for loop\n",
    "fruits = [([\"Pineapple\", \"Orange\", \"Grape\", \"Apple\"], \"Pineapple\")]\n",
    "string = input('Enter a string: ')\n",
    "index = 1\n",
    "for i in range(len(fruits)):\n",
    "    if fruits[i] == string:\n",
    "        index = i\n",
    "        break\n",
    "\n",
    "print(index)"
   ]
  },
  {
   "cell_type": "markdown",
   "id": "6f5c0786",
   "metadata": {},
   "source": [
    "### 16)Recreating a len() Function\n",
    "Create a function which returns the length of a string, without using len().\n",
    "\n",
    "Examples\n",
    "length(\"Hello World\") ➞ 11\n",
    "\n",
    "length(\"Edabit\") ➞ 6\n",
    "\n",
    "length(\"wash your hands!\") ➞ 16"
   ]
  },
  {
   "cell_type": "code",
   "execution_count": 40,
   "id": "101f61e0",
   "metadata": {},
   "outputs": [
    {
     "name": "stdout",
     "output_type": "stream",
     "text": [
      "Enter a string: Hello World\n",
      "11\n"
     ]
    }
   ],
   "source": [
    "#while loop\n",
    "string = input(\"Enter a string: \")\n",
    "count = 0\n",
    "index = 0\n",
    "while index < len(string):\n",
    "    count += 1\n",
    "    index += 1\n",
    "print(count)"
   ]
  },
  {
   "cell_type": "code",
   "execution_count": 41,
   "id": "320ad904",
   "metadata": {},
   "outputs": [
    {
     "name": "stdout",
     "output_type": "stream",
     "text": [
      "Enter a string: Hello World\n",
      "11\n"
     ]
    }
   ],
   "source": [
    "#for loop\n",
    "string =  input(\"Enter a string: \")\n",
    "count = 0\n",
    "for i in string:\n",
    "    count += 1\n",
    "print(count)"
   ]
  },
  {
   "cell_type": "markdown",
   "id": "c963f2ec",
   "metadata": {},
   "source": [
    "### 17)Sum of Minimums\n",
    "Create a function that takes a 2D list lst and returns the sum of the minimum value in each row.\n",
    "\n",
    "\n",
    "Examples\n",
    "\n",
    "sum_minimums([\n",
    "\n",
    "  [1, 2, 3, 4, 5],\n",
    "\n",
    "  [5, 6, 7, 8, 9],\n",
    "\n",
    "  [20, 21, 34, 56, 100]\n",
    "\n",
    "  ]) ➞ 26\n",
    "\n",
    "minimum value of the first row is 1\n",
    "\n",
    "minimum value of the second row is 5\n",
    "\n",
    "minimum value of the third row is 20"
   ]
  },
  {
   "cell_type": "code",
   "execution_count": 48,
   "id": "3089ac1d",
   "metadata": {},
   "outputs": [
    {
     "name": "stdout",
     "output_type": "stream",
     "text": [
      "26\n"
     ]
    }
   ],
   "source": [
    "#while loop\n",
    "list1 = [\n",
    "    [1, 2, 3, 4, 5],\n",
    "    [5, 6, 7, 8, 9],\n",
    "    [20, 21, 34, 56, 100]\n",
    "]\n",
    "\n",
    "sum_of_min = 0\n",
    "index = 0\n",
    "while index < len(list1):\n",
    "    min_value = min(list1[index])\n",
    "    sum_of_min += min_value\n",
    "    index += 1\n",
    "print(sum_of_min)"
   ]
  },
  {
   "cell_type": "code",
   "execution_count": 43,
   "id": "19cfa48d",
   "metadata": {},
   "outputs": [
    {
     "name": "stdout",
     "output_type": "stream",
     "text": [
      "26\n"
     ]
    }
   ],
   "source": [
    "#for loop\n",
    "list1 = [\n",
    "\n",
    "[1, 2, 3, 4, 5],\n",
    "\n",
    "[5, 6, 7, 8, 9],\n",
    "\n",
    "[20, 21, 34, 56, 100]\n",
    "\n",
    "]\n",
    "sum_of_min = 0\n",
    "for row in list1:\n",
    "    min_value = min(row)\n",
    "    sum_of_min += min_value\n",
    "print(sum_of_min)"
   ]
  },
  {
   "cell_type": "markdown",
   "id": "caf739fa",
   "metadata": {},
   "source": [
    "### 18)The Forbidden Letter\n",
    "Given a letter and a list of words, return whether the letter does not appear in any of the words.\n",
    "\n",
    "Examples\n",
    "\n",
    "forbidden_letter(\"r\", [\"rock\", \"paper\", \"scissors\"]) ➞ False\n",
    "\n",
    "forbidden_letter(\"a\", [\"spoon\", \"fork\", \"knife\"]) ➞ True\n",
    "\n",
    "forbidden_letter(\"m\", []) ➞ True"
   ]
  },
  {
   "cell_type": "code",
   "execution_count": 52,
   "id": "2f7b50c9",
   "metadata": {},
   "outputs": [
    {
     "name": "stdout",
     "output_type": "stream",
     "text": [
      "False\n"
     ]
    }
   ],
   "source": [
    "#while loop\n",
    "letter = \"r\"\n",
    "words = [\"rock\", \"paper\", \"scissors\"]\n",
    "result = True\n",
    "index = 0\n",
    "while index < len(words):\n",
    "    if letter in words[index]:\n",
    "        result = False\n",
    "        break\n",
    "    index += 1\n",
    "print(result)"
   ]
  },
  {
   "cell_type": "code",
   "execution_count": 50,
   "id": "c49eec90",
   "metadata": {},
   "outputs": [
    {
     "name": "stdout",
     "output_type": "stream",
     "text": [
      "False\n"
     ]
    }
   ],
   "source": [
    "#for loop\n",
    "letter = \"r\"\n",
    "words = [\"rock\", \"paper\", \"scissors\"]\n",
    "for word in words:\n",
    "    if letter in word:\n",
    "        result = False\n",
    "        break\n",
    "else:\n",
    "    result = True\n",
    "print(result)"
   ]
  },
  {
   "cell_type": "markdown",
   "id": "12b24447",
   "metadata": {},
   "source": [
    "### 19)Factors of a Given Number\n",
    "Create a function that finds each factor of a given number n. Your solution should return a list of the number(s) that meet this criteria.\n",
    "\n",
    "Examples\n",
    "\n",
    "find_factors(9) ➞ [1, 3, 9]\n",
    "\n",
    "9 has three factors 1, 3 and 9\n",
    "\n",
    "find_factors(12) ➞ [1, 2, 3, 4, 6, 12]\n",
    "\n",
    "find_factors(20) ➞ [1, 2, 4, 5, 10, 20]\n",
    "\n",
    "find_factors(0) ➞ []\n",
    "\n",
    "0 has no factors"
   ]
  },
  {
   "cell_type": "code",
   "execution_count": 59,
   "id": "282ba691",
   "metadata": {},
   "outputs": [
    {
     "name": "stdout",
     "output_type": "stream",
     "text": [
      "Enter a number: 12\n",
      "The factors of 12 are: [1, 2, 3, 4, 6, 12]\n"
     ]
    }
   ],
   "source": [
    "#while loop\n",
    "number = int(input(\"Enter a number: \"))\n",
    "factor = 1\n",
    "factors = []\n",
    "while factor <= number:\n",
    "    if number % factor == 0:\n",
    "        factors.append(factor)\n",
    "    factor += 1\n",
    "print(\"The factors of\", number, \"are:\", factors)"
   ]
  },
  {
   "cell_type": "code",
   "execution_count": 55,
   "id": "7b0552cc",
   "metadata": {},
   "outputs": [
    {
     "name": "stdout",
     "output_type": "stream",
     "text": [
      "Enter a number: 12\n",
      "The factors of 12 are: [1, 2, 3, 4, 6, 12]\n"
     ]
    }
   ],
   "source": [
    "#for loop\n",
    "number = int(input(\"Enter a number: \"))\n",
    "factors = []\n",
    "for factor in range(1, number + 1):\n",
    "    if number % factor == 0:\n",
    "        factors.append(factor)\n",
    "print(\"The factors of\", number, \"are:\", factors)"
   ]
  },
  {
   "cell_type": "markdown",
   "id": "acfea84e",
   "metadata": {},
   "source": [
    "### 20)Reverse the Case\n",
    "Given a string, create a function to reverse the case. All lower-cased letters should be upper-cased, and vice versa.\n",
    "\n",
    "Examples\n",
    "\n",
    "reverse_case(\"Happy Birthday\") ➞ \"hAPPY bIRTHDAY\"\n",
    "\n",
    "reverse_case(\"MANY THANKS\") ➞ \"many thanks\"\n",
    "\n",
    "reverse_case(\"sPoNtAnEoUs\") ➞ \"SpOnTaNeOuS\""
   ]
  },
  {
   "cell_type": "code",
   "execution_count": 60,
   "id": "2a6256ad",
   "metadata": {},
   "outputs": [
    {
     "name": "stdout",
     "output_type": "stream",
     "text": [
      "Enter a string: Happy Birthday\n",
      "Reverse Case: hAPPY bIRTHDAY\n"
     ]
    }
   ],
   "source": [
    "#while loop\n",
    "string = input(\"Enter a string: \")\n",
    "result = \"\"\n",
    "index = 0\n",
    "while index < len(string):\n",
    "    char = string[index]\n",
    "    if char.isupper():\n",
    "        result += char.lower()\n",
    "    elif char.islower():\n",
    "        result += char.upper()\n",
    "    else:\n",
    "        result += char\n",
    "    index += 1\n",
    "print(\"Reverse Case:\", result)"
   ]
  },
  {
   "cell_type": "code",
   "execution_count": 58,
   "id": "8b56e0bf",
   "metadata": {},
   "outputs": [
    {
     "name": "stdout",
     "output_type": "stream",
     "text": [
      "Enter a string: Happy Birthday\n",
      "Reverse Case: hAPPY bIRTHDAY\n"
     ]
    }
   ],
   "source": [
    "#for loop\n",
    "string = input(\"Enter a string: \")\n",
    "result = \"\"\n",
    "\n",
    "for char in string:\n",
    "    if char.isupper():\n",
    "        result += char.lower()\n",
    "    elif char.islower():\n",
    "        result += char.upper()\n",
    "    else:\n",
    "        result += char\n",
    "\n",
    "print(\"Reverse Case:\", result)"
   ]
  },
  {
   "cell_type": "markdown",
   "id": "dc927f45",
   "metadata": {},
   "source": [
    "### 21)Hashes and Pluses\n",
    "Create a function that returns the number of hashes and pluses in a string.\n",
    "\n",
    "Examples\n",
    "\n",
    "hash_plus_count(\"###+\") ➞ [3, 1]\n",
    "\n",
    "hash_plus_count(\"##+++#\") ➞ [3, 3]\n",
    "\n",
    "hash_plus_count(\"#+++#+#++#\") ➞ [4, 6]\n",
    "\n",
    "hash_plus_count(\"\") ➞ [0, 0]"
   ]
  },
  {
   "cell_type": "code",
   "execution_count": 63,
   "id": "3ab8b9ae",
   "metadata": {},
   "outputs": [
    {
     "name": "stdout",
     "output_type": "stream",
     "text": [
      "Enter a string: #+++#+#++#\n",
      "4 6\n"
     ]
    }
   ],
   "source": [
    "#while loop\n",
    "input_string = input(\"Enter a string: \")\n",
    "index = 0\n",
    "hash_count = 0\n",
    "plus_count = 0\n",
    "while index < len(input_string):\n",
    "    if input_string[index] == '#':\n",
    "        hash_count += 1\n",
    "    elif input_string[index] == '+':\n",
    "        plus_count += 1\n",
    "    index += 1\n",
    "print( hash_count , plus_count)"
   ]
  },
  {
   "cell_type": "code",
   "execution_count": 64,
   "id": "f1ec038a",
   "metadata": {},
   "outputs": [
    {
     "name": "stdout",
     "output_type": "stream",
     "text": [
      "Enter a string: #+++#+#++#\n",
      "4 6\n"
     ]
    }
   ],
   "source": [
    "#for loop\n",
    "input_string = input(\"Enter a string: \")\n",
    "hash_count = 0\n",
    "plus_count = 0\n",
    "\n",
    "for char in input_string:\n",
    "    if char == '#':\n",
    "        hash_count += 1\n",
    "    elif char == '+':\n",
    "        plus_count += 1\n",
    "print( hash_count , plus_count)"
   ]
  },
  {
   "cell_type": "markdown",
   "id": "f2106f4f",
   "metadata": {},
   "source": [
    "### 22)Even and Odd Strings\n",
    "Given a one word lowercase string txt, return another string such that even-indexed and odd-indexed characters are grouped and groups are space-separated.\n",
    "\n",
    "Examples\n",
    "\n",
    "even_odd_string(\"mubashir\") ➞ \"mbsi uahr\"\n",
    "\n",
    "Letters at even indexes = \"mbsi\"\n",
    "\n",
    "Letters at odd indexes = \"uahr\"\n",
    "\n",
    "Join both strings with a space\n",
    "\n",
    "even_odd_string(\"edabit\") ➞ \"eai dbt\"\n",
    "\n",
    "even_odd_string(\"airforce\") ➞ \"aroc ifre\""
   ]
  },
  {
   "cell_type": "code",
   "execution_count": 65,
   "id": "4ae8330a",
   "metadata": {},
   "outputs": [
    {
     "name": "stdout",
     "output_type": "stream",
     "text": [
      "enter the string: edabit\n",
      "eai dbt\n"
     ]
    }
   ],
   "source": [
    "x=str(input('enter the string: '))\n",
    "x1= x[::2]\n",
    "x2= x[1::2]\n",
    "while x<=x:\n",
    "    print(x1+' '+x2)\n",
    "    break"
   ]
  },
  {
   "cell_type": "code",
   "execution_count": 66,
   "id": "8c4fc1c0",
   "metadata": {},
   "outputs": [
    {
     "name": "stdout",
     "output_type": "stream",
     "text": [
      "Enter the string: edabit\n",
      "eai dbt\n"
     ]
    }
   ],
   "source": [
    "x = str(input('Enter the string: '))\n",
    "x1 = \"\"\n",
    "x2 = \"\"\n",
    "for index, char in enumerate(x):\n",
    "    if index % 2 == 0:\n",
    "        x1 += char\n",
    "    else:\n",
    "        x2 += char\n",
    "print(x1 + ' ' + x2)"
   ]
  },
  {
   "cell_type": "markdown",
   "id": "caf836db",
   "metadata": {},
   "source": [
    "### 23)Sum of the Odd Numbers\n",
    "Create a function which returns the total of all odd numbers up to and including n. n will be given as an odd number.\n",
    "\n",
    "Examples\n",
    "\n",
    "add_odd_to_n(5) ➞ 9\n",
    "\n",
    "1 + 3 + 5 = 9\n",
    "\n",
    "add_odd_to_n(13) ➞ 49\n",
    "\n",
    "add_odd_to_n(47) ➞ 576"
   ]
  },
  {
   "cell_type": "code",
   "execution_count": 1,
   "id": "e661e5d7",
   "metadata": {},
   "outputs": [
    {
     "name": "stdout",
     "output_type": "stream",
     "text": [
      "Enter a number: 9\n",
      "Sum of odd numbers up to 9 is: 25\n"
     ]
    }
   ],
   "source": [
    "n = int(input(\"Enter a number: \"))\n",
    "totalsum = 0\n",
    "i = 1\n",
    "while i <= n:\n",
    "    if i % 2 != 0:\n",
    "        totalsum += i\n",
    "    i += 1\n",
    "print(\"Sum of odd numbers up to\", n, \"is:\", totalsum)"
   ]
  },
  {
   "cell_type": "code",
   "execution_count": 1,
   "id": "1dd1d771",
   "metadata": {},
   "outputs": [
    {
     "name": "stdout",
     "output_type": "stream",
     "text": [
      "Enter a number: 9\n",
      "Sum of odd numbers up to 9 is: 25\n"
     ]
    }
   ],
   "source": [
    "n = int(input(\"Enter a number: \"))\n",
    "totalsum = 0\n",
    "for i in range(1, n + 1):\n",
    "    if i % 2 != 0:\n",
    "        totalsum += i\n",
    "print(\"Sum of odd numbers up to\", n, \"is:\", totalsum)"
   ]
  },
  {
   "cell_type": "markdown",
   "id": "d60c6127",
   "metadata": {},
   "source": [
    "### 24)Summing the Squares\n",
    "Create a function that takes a number n and returns the sum of all square numbers up to and including n.\n",
    "\n",
    "squares_sum(3) ➞ 14\n",
    "\n",
    "1² + 2² + 3² =\n",
    "\n",
    "1 + 4 + 9 =\n",
    "\n",
    "14\n",
    "\n",
    "Examples\n",
    "\n",
    "squares_sum(3) ➞ 14\n",
    "\n",
    "squares_sum(12) ➞ 650\n",
    "\n",
    "squares_sum(13) ➞ 819"
   ]
  },
  {
   "cell_type": "code",
   "execution_count": 7,
   "id": "2978210d",
   "metadata": {},
   "outputs": [
    {
     "name": "stdout",
     "output_type": "stream",
     "text": [
      "Enter a number:3\n",
      "14\n"
     ]
    }
   ],
   "source": [
    "#while loop\n",
    "num=int(input('Enter a number:'))\n",
    "result=0\n",
    "i=1\n",
    "while i<=num:\n",
    "    result+=i**2\n",
    "    i+=1\n",
    "print(result)"
   ]
  },
  {
   "cell_type": "code",
   "execution_count": 6,
   "id": "53ed8a7a",
   "metadata": {},
   "outputs": [
    {
     "name": "stdout",
     "output_type": "stream",
     "text": [
      "Enter a number:3\n",
      "14\n"
     ]
    }
   ],
   "source": [
    "#for loop\n",
    "num=int(input('Enter a number:'))\n",
    "result=0\n",
    "for i in range(1,num+1):\n",
    "    result+=i**2\n",
    "print(result)"
   ]
  },
  {
   "cell_type": "markdown",
   "id": "47a6050b",
   "metadata": {},
   "source": [
    "### 25)Negate the List of Numbers\n",
    "Given a list of numbers, negate all elements contained within.\n",
    "\n",
    "Negating a positive value -+n will return -n, because all +'s are removed.\n",
    "\n",
    "Negating a negative value --n will return n, because the first - turns the second minus into a +.\n",
    "\n",
    "Examples\n",
    "\n",
    "negate([1, 2, 3, 4]) ➞ [-1, -2, -3, -4]\n",
    "\n",
    "negate([-1, 2, -3, 4]) ➞ [1, -2, 3, -4]\n",
    "\n",
    "negate([]) ➞ []"
   ]
  },
  {
   "cell_type": "code",
   "execution_count": 5,
   "id": "c0fcc18f",
   "metadata": {},
   "outputs": [
    {
     "name": "stdout",
     "output_type": "stream",
     "text": [
      "[-1, -2, -3, -4]\n"
     ]
    }
   ],
   "source": [
    "#while loop\n",
    "numbers = [1, 2, 3, 4]\n",
    "index = 0\n",
    "while index < len(numbers):\n",
    "    numbers[index] = -numbers[index]\n",
    "    index += 1\n",
    "print(numbers)"
   ]
  },
  {
   "cell_type": "code",
   "execution_count": 4,
   "id": "7af71104",
   "metadata": {},
   "outputs": [
    {
     "name": "stdout",
     "output_type": "stream",
     "text": [
      "[-1, 2, -3, 4, -5]\n"
     ]
    }
   ],
   "source": [
    "#for loop\n",
    "numbers = [1, -2, 3, -4, 5]\n",
    "for i in range(len(numbers)):\n",
    "    if numbers[i] > 0:\n",
    "        numbers[i] = -numbers[i]\n",
    "    elif numbers[i] < 0:\n",
    "        numbers[i] = abs(numbers[i])  \n",
    "print(numbers)"
   ]
  },
  {
   "cell_type": "markdown",
   "id": "7c34d00d",
   "metadata": {},
   "source": [
    "### 26)Additive Inverse\n",
    "A number added with its additive inverse equals zero. Create a function that returns a list of additive inverses.\n",
    "\n",
    "Examples\n",
    "\n",
    "additive_inverse([5, -7, 8, 3]) ➞ [-5, 7, -8, -3]\n",
    "\n",
    "additive_inverse([1, 1, 1, 1, 1]) ➞ [-1, -1, -1, -1, -1]\n",
    "\n",
    "additive_inverse([-5, -25, 35]) ➞ [5, 25, -35]"
   ]
  },
  {
   "cell_type": "code",
   "execution_count": 2,
   "id": "2e82caa8",
   "metadata": {},
   "outputs": [
    {
     "name": "stdout",
     "output_type": "stream",
     "text": [
      "[-5, 7, -8, -3]\n"
     ]
    }
   ],
   "source": [
    "numbers = [5,-7,8,3]\n",
    "additive_inverses = []\n",
    "index = 0\n",
    "while index < len(numbers):\n",
    "    additive_inverses.append(-numbers[index])\n",
    "    index += 1\n",
    "print(additive_inverses)"
   ]
  },
  {
   "cell_type": "code",
   "execution_count": 3,
   "id": "321e1f60",
   "metadata": {},
   "outputs": [
    {
     "name": "stdout",
     "output_type": "stream",
     "text": [
      "[-5, 7, -8, -3]\n"
     ]
    }
   ],
   "source": [
    "numbers = [5,-7,8,3]\n",
    "additive_inverses = []\n",
    "for number in numbers:\n",
    "    additive_inverses.append(-number)\n",
    "print(additive_inverses)"
   ]
  },
  {
   "cell_type": "markdown",
   "id": "6d7fa332",
   "metadata": {},
   "source": [
    "### 27)Add a Consecutive List of Numbers\n",
    "Write a function that takes the last number of a consecutive list of numbers and returns the total of all numbers up to and including it.\n",
    "\n",
    "Examples\n",
    "\n",
    "add_up_to(3) ➞ 6\n",
    "\n",
    "1 + 2 + 3 = 6\n",
    "\n",
    "add_up_to(10) ➞ 55\n",
    "\n",
    "1 + 2 + 3 + ... + 10 = 55\n",
    "\n",
    "add_up_to(7) ➞ 28\n",
    "\n",
    "1 + 2 + 3 + ... + 7 = 28"
   ]
  },
  {
   "cell_type": "code",
   "execution_count": 2,
   "id": "92613d0c",
   "metadata": {},
   "outputs": [
    {
     "name": "stdout",
     "output_type": "stream",
     "text": [
      "Enter the last number in the consecutive list: 10\n",
      "The total of all numbers from 1 to 10 is: 55\n"
     ]
    }
   ],
   "source": [
    "num = int(input(\"Enter the last number in the consecutive list: \"))\n",
    "total = 0\n",
    "start = 1\n",
    "while start <= num:\n",
    "    total += start\n",
    "    start += 1\n",
    "print(\"The total of all numbers from 1 to\", n, \"is:\", total)"
   ]
  },
  {
   "cell_type": "code",
   "execution_count": 3,
   "id": "d8631014",
   "metadata": {},
   "outputs": [
    {
     "name": "stdout",
     "output_type": "stream",
     "text": [
      "Enter the last number in the consecutive list: 10\n",
      "The total of all numbers from 1 to 10 is: 55\n"
     ]
    }
   ],
   "source": [
    "num = int(input(\"Enter the last number in the consecutive list: \"))\n",
    "total = 0\n",
    "for start in range(1, num + 1):\n",
    "    total += start\n",
    "print(\"The total of all numbers from 1 to\", num, \"is:\", total)"
   ]
  },
  {
   "cell_type": "markdown",
   "id": "0f3acc2c",
   "metadata": {},
   "source": [
    "### 28)Give Me the Even Numbers\n",
    "Create a function that takes two parameters (start, stop), and returns the sum of all even numbers in the range.\n",
    "\n",
    "Examples\n",
    "\n",
    "sum_even_nums_in_range(10, 20) ➞ 90\n",
    "\n",
    "10, 12, 14, 16, 18, 20\n",
    "\n",
    "sum_even_nums_in_range(51, 150) ➞ 5050\n",
    "\n",
    "sum_even_nums_in_range(63, 97) ➞ 1360"
   ]
  },
  {
   "cell_type": "code",
   "execution_count": 4,
   "id": "c2f78b97",
   "metadata": {},
   "outputs": [
    {
     "name": "stdout",
     "output_type": "stream",
     "text": [
      "Enter the start of the range: 10\n",
      "Enter the stop of the range: 20\n",
      "The sum of even numbers from 10 to 20 is: 90\n"
     ]
    }
   ],
   "source": [
    "start = int(input(\"Enter the start of the range: \"))\n",
    "stop = int(input(\"Enter the stop of the range: \"))\n",
    "total = 0\n",
    "current = start\n",
    "while current <= stop:\n",
    "    if current % 2 == 0:\n",
    "        total += current\n",
    "    current += 1\n",
    "print(f\"The sum of even numbers from {start} to {stop} is: {total}\")"
   ]
  },
  {
   "cell_type": "code",
   "execution_count": 5,
   "id": "f025209e",
   "metadata": {},
   "outputs": [
    {
     "name": "stdout",
     "output_type": "stream",
     "text": [
      "Enter the start of the range: 10\n",
      "Enter the stop of the range: 20\n",
      "The sum of even numbers from 10 to 20 is: 90\n"
     ]
    }
   ],
   "source": [
    "start = int(input(\"Enter the start of the range: \"))\n",
    "stop = int(input(\"Enter the stop of the range: \"))\n",
    "total = 0\n",
    "for current in range(start, stop + 1):\n",
    "    if current % 2 == 0:\n",
    "        total += current\n",
    "print(f\"The sum of even numbers from {start} to {stop} is: {total}\")"
   ]
  },
  {
   "cell_type": "markdown",
   "id": "634e3898",
   "metadata": {},
   "source": [
    "### 29)Is the String a Palindrome?\n",
    "A palindrome is a word that is identical forward and backwards.\n",
    "\n",
    "mom\n",
    "\n",
    "racecar\n",
    "\n",
    "kayak\n",
    "\n",
    "Given a word, create a function that checks whether it is a palindrome.\n",
    "\n",
    "Examples\n",
    "\n",
    "is_palindrome(\"mom\") ➞ True\n",
    "\n",
    "is_palindrome(\"scary\") ➞ False\n",
    "\n",
    "is_palindrome(\"reviver\") ➞ True\n",
    "\n",
    "is_palindrome(\"stressed\") ➞ False"
   ]
  },
  {
   "cell_type": "code",
   "execution_count": 6,
   "id": "7fdb00e4",
   "metadata": {},
   "outputs": [
    {
     "name": "stdout",
     "output_type": "stream",
     "text": [
      "Enter a string: reviver\n",
      "The string is a palindrome.\n"
     ]
    }
   ],
   "source": [
    "string = input(\"Enter a string: \")\n",
    "left = 0\n",
    "right = len(string) - 1\n",
    "is_palindrome = True\n",
    "while left < right:\n",
    "    if string[left] != string[right]:\n",
    "        is_palindrome = False\n",
    "        break\n",
    "    left += 1\n",
    "    right -= 1\n",
    "if is_palindrome:\n",
    "    print(\"The string is a palindrome.\")\n",
    "else:\n",
    "    print(\"The string is not a palindrome.\")"
   ]
  },
  {
   "cell_type": "code",
   "execution_count": 8,
   "id": "6dbe16ad",
   "metadata": {},
   "outputs": [
    {
     "name": "stdout",
     "output_type": "stream",
     "text": [
      "Enter a word or phrase: reviver\n",
      "The string is a palindrome.\n"
     ]
    }
   ],
   "source": [
    "#for loop\n",
    "word = input(\"Enter a word or phrase: \")\n",
    "is_palindrome = True\n",
    "\n",
    "for i in range(len(word) // 2):\n",
    "    if word[i] != word[len(word) - 1 - i]:\n",
    "        is_palindrome = False\n",
    "        break\n",
    "if is_palindrome:\n",
    "    print(\"The string is a palindrome.\")\n",
    "else:\n",
    "    print(\"The string is not a palindrome.\")"
   ]
  },
  {
   "cell_type": "markdown",
   "id": "8f468041",
   "metadata": {},
   "source": [
    "### 30)List of Consecutive Numbers\n",
    "Implement a function that returns a list containing all the consecutive numbers in ascendant order from the given value low up to the given value high (bounds included).\n",
    "\n",
    "Examples\n",
    "\n",
    "get_sequence(1, 5) ➞ [1, 2, 3, 4, 5]\n",
    "\n",
    "get_sequence(98, 100) ➞ [98, 99, 100]\n",
    "\n",
    "get_sequence(1000, 1000) ➞ [1000]"
   ]
  },
  {
   "cell_type": "code",
   "execution_count": 9,
   "id": "2ab7b377",
   "metadata": {},
   "outputs": [
    {
     "name": "stdout",
     "output_type": "stream",
     "text": [
      "[1, 2, 3, 4, 5]\n"
     ]
    }
   ],
   "source": [
    "start=1\n",
    "end=5\n",
    "result=[]\n",
    "i=start\n",
    "while i<=end:\n",
    "    result.append(i)\n",
    "    i+=1\n",
    "print(result)"
   ]
  },
  {
   "cell_type": "code",
   "execution_count": 10,
   "id": "a2242d02",
   "metadata": {},
   "outputs": [
    {
     "name": "stdout",
     "output_type": "stream",
     "text": [
      "[1, 2, 3, 4, 5]\n"
     ]
    }
   ],
   "source": [
    "start=1\n",
    "end=5\n",
    "result=[]\n",
    "for i in range(start,end+1):\n",
    "    result.append(i)\n",
    "print(result)"
   ]
  },
  {
   "cell_type": "markdown",
   "id": "712e3884",
   "metadata": {},
   "source": [
    "### 31)Find the Index (Part 1)\n",
    "Create a function that finds the index of a given item.\n",
    "\n",
    "Examples\n",
    "\n",
    "search([1, 5, 3], 5) ➞ 1\n",
    "\n",
    "search([9, 8, 3], 3) ➞ 2\n",
    "\n",
    "search([1, 2, 3], 4) ➞ -1"
   ]
  },
  {
   "cell_type": "code",
   "execution_count": 3,
   "id": "0c92026f",
   "metadata": {},
   "outputs": [
    {
     "name": "stdout",
     "output_type": "stream",
     "text": [
      "1\n"
     ]
    }
   ],
   "source": [
    "#while loop\n",
    "x = [1, 5, 3]\n",
    "search = 5\n",
    "index =-1\n",
    "i = 0\n",
    "while i < len(x):\n",
    "    if x[i] == search:\n",
    "        index = i\n",
    "        break\n",
    "    i += 1\n",
    "print(index)"
   ]
  },
  {
   "cell_type": "code",
   "execution_count": 6,
   "id": "73cd79d6",
   "metadata": {},
   "outputs": [
    {
     "name": "stdout",
     "output_type": "stream",
     "text": [
      "1\n"
     ]
    }
   ],
   "source": [
    "#for loop\n",
    "x = [1, 5, 3]\n",
    "search = 5\n",
    "index = -1\n",
    "for i in range(len(x)):\n",
    "    if x[i] == search:\n",
    "        index = i\n",
    "        break\n",
    "print(index)"
   ]
  },
  {
   "cell_type": "markdown",
   "id": "113b513d",
   "metadata": {},
   "source": [
    "### 32)Count the Capital Letters\n",
    "Given a string of letters, how many capital letters are there?\n",
    "\n",
    "Examples\n",
    "\n",
    "capital_letters(\"fvLzpxmgXSDrobbgMVrc\") ➞ 6\n",
    "\n",
    "capital_letters(\"JMZWCneOTFLWYwBWxyFw\") ➞ 14\n",
    "\n",
    "capital_letters(\"mqeytbbjwqemcdrdsyvq\") ➞ 0"
   ]
  },
  {
   "cell_type": "code",
   "execution_count": 9,
   "id": "38229251",
   "metadata": {},
   "outputs": [
    {
     "name": "stdout",
     "output_type": "stream",
     "text": [
      "Enter a string: fvLzpxmgXSDrobbgMVrc\n",
      "The number of capital letters in the string is: 6\n"
     ]
    }
   ],
   "source": [
    "#while loop\n",
    "string = input(\"Enter a string: \")\n",
    "index = 0\n",
    "capitals = 0\n",
    "while index < len(string):\n",
    "    if string[index].isupper():\n",
    "        capitals += 1\n",
    "    index += 1\n",
    "print(\"The number of capital letters in the string is:\", capitals)"
   ]
  },
  {
   "cell_type": "code",
   "execution_count": 8,
   "id": "d46c53c0",
   "metadata": {},
   "outputs": [
    {
     "name": "stdout",
     "output_type": "stream",
     "text": [
      "Enter a string: fvLzpxmgXSDrobbgMVrc\n",
      "The number of capital letters in the string is: 6\n"
     ]
    }
   ],
   "source": [
    "string = input(\"Enter a string: \")\n",
    "capitals = 0\n",
    "for char in string:\n",
    "    if char.isupper():\n",
    "        capitals += 1\n",
    "print(\"The number of capital letters in the string is:\", capitals)"
   ]
  },
  {
   "cell_type": "markdown",
   "id": "4768fc6a",
   "metadata": {},
   "source": [
    "### 33)N Tables + 1\n",
    "Create a function that takes a number num and returns the first 10 multiples of num with 1 added to it, separated by commas.\n",
    "\n",
    "Examples\n",
    "\n",
    "n_tables_plus_one(7) ➞ \"8,15,22,29,36,43,50,57,64,71\"\n",
    "\n",
    "n_tables_plus_one(1) ➞ \"2,3,4,5,6,7,8,9,10,11\"\n",
    "\n",
    "n_tables_plus_one(3) ➞ \"4,7,10,13,16,19,22,25,28,31\""
   ]
  },
  {
   "cell_type": "code",
   "execution_count": 11,
   "id": "86bbdfeb",
   "metadata": {},
   "outputs": [
    {
     "name": "stdout",
     "output_type": "stream",
     "text": [
      "8,15,22,29,36,43,50,57,64,71\n"
     ]
    }
   ],
   "source": [
    "#while loop\n",
    "num = 7\n",
    "result = []\n",
    "i = 1\n",
    "while i <= 10:\n",
    "    result.append(str(num * i + 1))\n",
    "    i += 1\n",
    "output = \",\".join(result)\n",
    "print(output)"
   ]
  },
  {
   "cell_type": "code",
   "execution_count": 17,
   "id": "c724a60f",
   "metadata": {},
   "outputs": [
    {
     "name": "stdout",
     "output_type": "stream",
     "text": [
      "8,15,22,29,36,43,50,57,64,71\n"
     ]
    }
   ],
   "source": [
    "#for loop\n",
    "num = 7\n",
    "result = []\n",
    "for i in range(1, 11):\n",
    "    result.append(str(num * i + 1))\n",
    "output = \",\".join(result)\n",
    "print(output)"
   ]
  },
  {
   "cell_type": "markdown",
   "id": "2502bd67",
   "metadata": {},
   "source": [
    "### 34)Reverse Coding \n",
    "This is a reverse coding challenge. Normally you're given explicit directions with how to create a function. Here, you must generate your own function to satisfy the relationship between the inputs and outputs.\n",
    "\n",
    "Your task is to create a function that, when fed the inputs below, produces the sample outputs shown.\n",
    "\n",
    "Examples\n",
    "\n",
    "[5, 7, 8, 2, 1], 2 ➞ [1, 1, 0, 0, 1]\n",
    "\n",
    "[9, 8, 16, 47], 4 ➞ [1, 0, 0, 3]\n",
    "\n",
    "[17, 11, 99, 55, 23, 1], 5 ➞ [2, 1, 4, 0, 3, 1]\n",
    "\n",
    "[6, 1], 7 ➞ [6, 1]\n",
    "\n",
    "[3, 2, 9], 3 ➞ [0, 2, 0]\n",
    "\n",
    "[48, 22, 0, 19, 33, 100], 10 ➞ [8, 2, 0, 9, 3, 0]"
   ]
  },
  {
   "cell_type": "code",
   "execution_count": 14,
   "id": "10065933",
   "metadata": {},
   "outputs": [
    {
     "name": "stdout",
     "output_type": "stream",
     "text": [
      "Enter the divisor: 2\n",
      "[1, 1, 0, 0, 1]\n"
     ]
    }
   ],
   "source": [
    "input_list = [5, 7, 8, 2, 1]\n",
    "divisor = int(input(\"Enter the divisor: \"))\n",
    "index = 0\n",
    "remainders = []\n",
    "while index < len(input_list):\n",
    "    remainder = input_list[index] % divisor\n",
    "    remainders.append(remainder)\n",
    "    index += 1\n",
    "print(remainders)"
   ]
  },
  {
   "cell_type": "code",
   "execution_count": 16,
   "id": "9c198ccd",
   "metadata": {
    "scrolled": true
   },
   "outputs": [
    {
     "name": "stdout",
     "output_type": "stream",
     "text": [
      "Enter the divisor: 2\n",
      "[1, 1, 0, 0, 1]\n"
     ]
    }
   ],
   "source": [
    "#for loop\n",
    "input_list = [5, 7, 8, 2, 1]\n",
    "divisor = int(input(\"Enter the divisor: \"))\n",
    "\n",
    "remainders = []\n",
    "for num in input_list:\n",
    "    remainder = num % divisor\n",
    "    remainders.append(remainder)\n",
    "\n",
    "print(remainders)"
   ]
  },
  {
   "cell_type": "markdown",
   "id": "222c77f6",
   "metadata": {},
   "source": [
    "### 35)Burglary Series (11): Say What\n",
    "The insurance guy calls again. Apparently, they were informed by your spouse that some items were not stolen at all and you failed to mention this detail to them. This is a fraud attempt! You freeze and mumble something unintelligible. Find out what you said.\n",
    "\n",
    "Given a dictionary, return a string that concatenates all the values and adds the 2nd key at the end. Make sure you keep an empty space between them but not at the beginning or end of the string. Look at the examples for a clearer picture.\n",
    "\n",
    "Examples\n",
    "\n",
    "{ 1: \"Mommy\", 2: \"please\", 3: \"help\" } ➞ \"Mommy please help please\"\n",
    "\n",
    "{ 1: \"Me\", 2: \"innocent\", 3: \"is\" } ➞ \"Me innocent is innocent\"\n",
    "\n",
    "{ 1: \"Must\", 2: \"lawyer\", 3: \"call\" } ➞ \"Must lawyer call lawyer\""
   ]
  },
  {
   "cell_type": "code",
   "execution_count": 20,
   "id": "2ee640b8",
   "metadata": {},
   "outputs": [
    {
     "name": "stdout",
     "output_type": "stream",
     "text": [
      "Must lawyer call lawyer\n"
     ]
    }
   ],
   "source": [
    "#while loop\n",
    "input_dict = {1: \"Must\", 2: \"lawyer\", 3: \"call\"}\n",
    "result = ''\n",
    "second_key = None\n",
    "keys = list(input_dict.keys())\n",
    "index = 0\n",
    "while index < len(keys):\n",
    "    key = keys[index]\n",
    "    value = input_dict[key]\n",
    "    result += value + ' '\n",
    "    if index == 1:\n",
    "        second_key = key\n",
    "    index += 1\n",
    "if second_key:\n",
    "    result += input_dict[second_key]\n",
    "print(result)"
   ]
  },
  {
   "cell_type": "code",
   "execution_count": 29,
   "id": "e6b6e24e",
   "metadata": {},
   "outputs": [
    {
     "name": "stdout",
     "output_type": "stream",
     "text": [
      "Must lawyer call lawyer\n"
     ]
    }
   ],
   "source": [
    "# for loop\n",
    "input_dict = {1: \"Must\", 2: \"lawyer\", 3: \"call\"}\n",
    "result = ''\n",
    "second_key = None\n",
    "for key, value in input_dict.items():\n",
    "    result += value + ' '\n",
    "    if key == 2:\n",
    "        second_key = key\n",
    "if second_key:\n",
    "    result += input_dict[second_key]\n",
    "print(result)"
   ]
  },
  {
   "cell_type": "markdown",
   "id": "0b1460a6",
   "metadata": {},
   "source": [
    "### 36)Word Endings\n",
    "Create a function that adds a string ending to each member in a list.\n",
    "\n",
    "Examples\n",
    "\n",
    "add_ending([\"clever\", \"meek\", \"hurried\", \"nice\"], \"ly\")\n",
    "➞ [\"cleverly\", \"meekly\", \"hurriedly\", \"nicely\"]\n",
    "\n",
    "add_ending([\"new\", \"pander\", \"scoop\"], \"er\")\n",
    "➞ [\"newer\", \"panderer\", \"scooper\"]\n",
    "\n",
    "add_ending([\"bend\", \"sharpen\", \"mean\"], \"ing\")\n",
    "➞ [\"bending\", \"sharpening\", \"meaning\"]"
   ]
  },
  {
   "cell_type": "code",
   "execution_count": 33,
   "id": "0a560406",
   "metadata": {},
   "outputs": [
    {
     "name": "stdout",
     "output_type": "stream",
     "text": [
      "Enter the string ending: ly\n",
      "Modified list: ['cleverly', 'meekly', 'hurriedly', 'nicely']\n"
     ]
    }
   ],
   "source": [
    "#while loop\n",
    "input_list = [\"clever\", \"meek\", \"hurried\", \"nice\"]\n",
    "ending = input(\"Enter the string ending: \")\n",
    "index = 0\n",
    "while index < len(input_list):\n",
    "    input_list[index] += ending\n",
    "    index += 1\n",
    "print(\"Modified list:\", input_list)"
   ]
  },
  {
   "cell_type": "code",
   "execution_count": 34,
   "id": "aee0b41e",
   "metadata": {},
   "outputs": [
    {
     "name": "stdout",
     "output_type": "stream",
     "text": [
      "Enter the ending to add: ly\n",
      "['cleverly', 'meekly', 'hurriedly', 'nicely']\n"
     ]
    }
   ],
   "source": [
    "input_list = [\"clever\", \"meek\", \"hurried\", \"nice\"]\n",
    "ending = input(\"Enter the ending to add: \")\n",
    "result = []\n",
    "for item in input_list:\n",
    "    result.append(item + ending)\n",
    "print(result)"
   ]
  },
  {
   "cell_type": "markdown",
   "id": "61680be0",
   "metadata": {},
   "source": [
    "### 37)Sum of Cubes\n",
    "Create a function that takes a list of numbers and returns the sum of its cubes.\n",
    "\n",
    "Examples\n",
    "\n",
    "sum_of_cubes([1, 5, 9]) ➞ 855\n",
    "\n",
    "Since 1^3 + 5^3 + 9^3 = 1 + 125 + 729 = 855\n",
    "\n",
    "sum_of_cubes([3, 4, 5]) ➞ 216\n",
    "\n",
    "sum_of_cubes([2]) ➞ 8\n",
    "\n",
    "sum_of_cubes([]) ➞ 0"
   ]
  },
  {
   "cell_type": "code",
   "execution_count": 37,
   "id": "422ea3fb",
   "metadata": {},
   "outputs": [
    {
     "name": "stdout",
     "output_type": "stream",
     "text": [
      "Sum of cubes: 855\n"
     ]
    }
   ],
   "source": [
    "#while loop\n",
    "input_list = [1, 5, 9]\n",
    "sum_of_cubes = 0\n",
    "index = 0\n",
    "\n",
    "while index < len(input_list):\n",
    "    sum_of_cubes += input_list[index] ** 3\n",
    "    index += 1\n",
    "print(\"Sum of cubes:\", sum_of_cubes)"
   ]
  },
  {
   "cell_type": "code",
   "execution_count": 44,
   "id": "95c9c4ae",
   "metadata": {},
   "outputs": [
    {
     "name": "stdout",
     "output_type": "stream",
     "text": [
      "Sum of cubes: 216\n"
     ]
    }
   ],
   "source": [
    "#for loop\n",
    "input_list = [3, 4, 5]\n",
    "sum_of_cubes = 0\n",
    "for num in input_list:\n",
    "    sum_of_cubes += num ** 3\n",
    "print(\"Sum of cubes:\", sum_of_cubes)"
   ]
  },
  {
   "cell_type": "markdown",
   "id": "2e40986e",
   "metadata": {},
   "source": [
    "### 38)Minimum Removals to Make Sum Even\n",
    "Create a function that returns the minimum number of elements removed to make the sum of all elements in a list even.\n",
    "\n",
    "Examples\n",
    "\n",
    "minimum_removals([1, 2, 3, 4, 5]) ➞ 1\n",
    "\n",
    "minimum_removals([5, 7, 9, 11]) ➞ 0\n",
    "\n",
    "minimum_removals([5, 7, 9, 12]) ➞ 1"
   ]
  },
  {
   "cell_type": "code",
   "execution_count": 52,
   "id": "8d54ce11",
   "metadata": {},
   "outputs": [
    {
     "name": "stdout",
     "output_type": "stream",
     "text": [
      "1\n"
     ]
    }
   ],
   "source": [
    "#while loop\n",
    "l = [1,2,3,4,5]\n",
    "odd_count = 0\n",
    "index = 0\n",
    "while index < len(l):\n",
    "    num = l[index]\n",
    "    if num % 2 != 0:\n",
    "        odd_count += 1\n",
    "    index += 1\n",
    "if odd_count % 2 == 0:\n",
    "    print(0)\n",
    "else:\n",
    "    print(1)"
   ]
  },
  {
   "cell_type": "code",
   "execution_count": 48,
   "id": "5dc43de3",
   "metadata": {},
   "outputs": [
    {
     "name": "stdout",
     "output_type": "stream",
     "text": [
      "1\n"
     ]
    }
   ],
   "source": [
    "#for loop\n",
    "l = [1,2,3,4,5]\n",
    "odd_count = 0\n",
    "for num in l:\n",
    "    if num % 2 != 0:\n",
    "        odd_count += 1\n",
    "if odd_count % 2 == 0:\n",
    "    print(0)\n",
    "else:\n",
    "    print(1)"
   ]
  },
  {
   "cell_type": "markdown",
   "id": "9e02b389",
   "metadata": {},
   "source": [
    "### 39) Generate a Countdown of Numbers in a List\n",
    "Create a function that takes a number as an argument and returns a list of numbers counting down from this number to zero.\n",
    "\n",
    "Examples\n",
    "countdown\n",
    "(5) ➞ [5, 4, 3, 2, 1, 0]\n",
    "\n",
    "countdown(1) ➞ [1, 0]\n",
    "\n",
    "countdown(0) ➞ [0]"
   ]
  },
  {
   "cell_type": "code",
   "execution_count": 56,
   "id": "599d3424",
   "metadata": {},
   "outputs": [
    {
     "name": "stdout",
     "output_type": "stream",
     "text": [
      "[5, 4, 3, 2, 1, 0]\n"
     ]
    }
   ],
   "source": [
    "#while loop\n",
    "countdown = []\n",
    "startno = 5\n",
    "while startno >= 0:\n",
    "    countdown.append(startno)\n",
    "    startno -= 1\n",
    "print(countdown)"
   ]
  },
  {
   "cell_type": "code",
   "execution_count": 61,
   "id": "9c629749",
   "metadata": {},
   "outputs": [
    {
     "name": "stdout",
     "output_type": "stream",
     "text": [
      "[5, 4, 3, 2, 1, 0]\n"
     ]
    }
   ],
   "source": [
    "#for loop\n",
    "countdown = []\n",
    "for startno in range(5, -1, -1):\n",
    "    countdown.append(startno)\n",
    "print(countdown)"
   ]
  },
  {
   "cell_type": "markdown",
   "id": "7f0c7b5e",
   "metadata": {},
   "source": [
    "### 40)Who's in First Place?\n",
    "Create a function that takes a string road and returns the car that's in first place. The road will be made of \"=\", and cars will be represented by letters in the alphabet.\n",
    "\n",
    "Examples\n",
    "\n",
    "first_place(\"====b===O===e===U=A==\") ➞ \"A\"\n",
    "\n",
    "first_place(\"e==B=Fe\") ➞ \"e\"\n",
    "\n",
    "first_place(\"proeNeoOJGnfl\") ➞ \"l\""
   ]
  },
  {
   "cell_type": "code",
   "execution_count": 62,
   "id": "05118fd0",
   "metadata": {},
   "outputs": [
    {
     "name": "stdout",
     "output_type": "stream",
     "text": [
      "A\n"
     ]
    }
   ],
   "source": [
    "#while loop\n",
    "road = \"====b===O===e===U=A==\"\n",
    "first_car = None\n",
    "i=0\n",
    "while i<len(road):\n",
    "    if road[i].isalpha():\n",
    "        first_car=road[i]\n",
    "        if first_car == 'A':\n",
    "            break\n",
    "    i+=1    \n",
    "print(first_car) "
   ]
  },
  {
   "cell_type": "code",
   "execution_count": 69,
   "id": "b4d04ce7",
   "metadata": {},
   "outputs": [
    {
     "name": "stdout",
     "output_type": "stream",
     "text": [
      "A\n"
     ]
    }
   ],
   "source": [
    "#for loop\n",
    "road = \"====b===O===e===U=A==\"\n",
    "first_car = None\n",
    "\n",
    "for char in road:\n",
    "    if char.isalpha():\n",
    "        first_car = char\n",
    "print(first_car)"
   ]
  },
  {
   "cell_type": "markdown",
   "id": "1775da60",
   "metadata": {},
   "source": [
    "### 41)How Many Vowels?\n",
    "Create a function that takes a string and returns the number (count) of vowels contained within it.\n",
    "\n",
    "Examples\n",
    "\n",
    "count_vowels(\"Celebration\") ➞ 5\n",
    "\n",
    "count_vowels(\"Palm\") ➞ 1\n",
    "\n",
    "count_vowels(\"Prediction\") ➞ 4"
   ]
  },
  {
   "cell_type": "code",
   "execution_count": 70,
   "id": "9ed97f0c",
   "metadata": {},
   "outputs": [
    {
     "name": "stdout",
     "output_type": "stream",
     "text": [
      "Enter a string: Celebration\n",
      "The number of vowels in the string is: 5\n"
     ]
    }
   ],
   "source": [
    "#while loop\n",
    "string = input(\"Enter a string: \")\n",
    "vowels = {'a', 'e', 'i', 'o', 'u'}\n",
    "index = 0\n",
    "totalvowels = 0\n",
    "while index < len(string):\n",
    "    if string[index] in vowels:\n",
    "        totalvowels += 1\n",
    "    index += 1\n",
    "print(\"The number of vowels in the string is:\", totalvowels)"
   ]
  },
  {
   "cell_type": "code",
   "execution_count": 71,
   "id": "743dc31f",
   "metadata": {},
   "outputs": [
    {
     "name": "stdout",
     "output_type": "stream",
     "text": [
      "Enter a string: Celebration\n",
      "The number of vowels in the string is: 5\n"
     ]
    }
   ],
   "source": [
    "string = input(\"Enter a string: \")\n",
    "vowels = {'a', 'e', 'i', 'o', 'u'}\n",
    "totalvowels = 0\n",
    "for char in string:\n",
    "    if char in vowels:\n",
    "        totalvowels += 1\n",
    "print(\"The number of vowels in the string is:\", totalvowels)"
   ]
  },
  {
   "cell_type": "markdown",
   "id": "5656c5c4",
   "metadata": {},
   "source": [
    "### 42)Factorize a Number\n",
    "Create a function that takes a number as its argument and returns a list of all its factors.\n",
    "\n",
    "Examples\n",
    "\n",
    "factorize(12) ➞ [1, 2, 3, 4, 6, 12]\n",
    "\n",
    "factorize(4) ➞ [1, 2, 4]\n",
    "\n",
    "factorize(17) ➞ [1, 17]"
   ]
  },
  {
   "cell_type": "code",
   "execution_count": 72,
   "id": "f1643d6f",
   "metadata": {},
   "outputs": [
    {
     "name": "stdout",
     "output_type": "stream",
     "text": [
      "Enter a number: 12\n",
      "[1, 2, 3, 4, 6, 12]\n"
     ]
    }
   ],
   "source": [
    "#while loop\n",
    "n = int(input(\"Enter a number: \"))\n",
    "fact = []\n",
    "i = 1\n",
    "while i <= n:\n",
    "    if n % i == 0:\n",
    "        fact.append(i)\n",
    "    i += 1\n",
    "print(fact)"
   ]
  },
  {
   "cell_type": "code",
   "execution_count": 75,
   "id": "32a5b6b1",
   "metadata": {},
   "outputs": [
    {
     "name": "stdout",
     "output_type": "stream",
     "text": [
      "Enter a number: 12\n",
      "[1, 2, 3, 4, 6, 12]\n"
     ]
    }
   ],
   "source": [
    "#for loop\n",
    "n = int(input(\"Enter a number: \"))\n",
    "fact = []\n",
    "\n",
    "for i in range(1, n + 1):\n",
    "    if n % i == 0:\n",
    "        fact.append(i)\n",
    "\n",
    "print(fact)"
   ]
  },
  {
   "cell_type": "markdown",
   "id": "cf8dd368",
   "metadata": {},
   "source": [
    "### 43)Multiply by Length\n",
    "Create a function to multiply all of the values in a list by the amount of values in the given list.\n",
    "\n",
    "Examples\n",
    "\n",
    "multiply_by_length([2, 3, 1, 0]) ➞ [8, 12, 4, 0]\n",
    "\n",
    "multiply_by_length([4, 1, 1]) ➞ ([12, 3, 3])\n",
    "\n",
    "multiply_by_length([1, 0, 3, 3, 7, 2, 1]) ➞ [7, 0, 21, 21, 49, 14, 7]\n",
    "\n",
    "multiply_by_length([0]) ➞ ([0])"
   ]
  },
  {
   "cell_type": "code",
   "execution_count": 78,
   "id": "f3c79101",
   "metadata": {},
   "outputs": [
    {
     "name": "stdout",
     "output_type": "stream",
     "text": [
      "[8, 12, 4, 0]\n"
     ]
    }
   ],
   "source": [
    "#while loop\n",
    "mylist = [2,3,1,0]\n",
    "length = len(mylist)\n",
    "result = []\n",
    "index = 0\n",
    "while index < length:\n",
    "    result.append(mylist[index] * length)\n",
    "    index += 1\n",
    "\n",
    "print(result)"
   ]
  },
  {
   "cell_type": "code",
   "execution_count": 85,
   "id": "9a470e29",
   "metadata": {},
   "outputs": [
    {
     "name": "stdout",
     "output_type": "stream",
     "text": [
      "[8, 12, 4, 0]\n"
     ]
    }
   ],
   "source": [
    "#for loop\n",
    "mylist = [2, 3, 1, 0]\n",
    "length = len(mylist)\n",
    "result = []\n",
    "for num in mylist:\n",
    "    result.append(num * length)\n",
    "print(result)"
   ]
  },
  {
   "cell_type": "markdown",
   "id": "3c6f4647",
   "metadata": {},
   "source": [
    "### 44)How Many Digits?\n",
    "Given an integer n. Your task is to find how many digits this integer contains without using str or len methods!\n",
    "\n",
    "Examples\n",
    "\n",
    "sum_digits(100) ➞ 3\n",
    "\n",
    "sum_digits(1000) ➞ 4\n",
    "\n",
    "sum_digits(1) ➞ 1"
   ]
  },
  {
   "cell_type": "code",
   "execution_count": 86,
   "id": "e469c9de",
   "metadata": {},
   "outputs": [
    {
     "name": "stdout",
     "output_type": "stream",
     "text": [
      "Enter an integer: 100\n",
      "Number of digits: 3\n"
     ]
    }
   ],
   "source": [
    "#while loop\n",
    "number = int(input(\"Enter an integer: \"))\n",
    "count = 0\n",
    "\n",
    "if number == 0:\n",
    "    count = 1\n",
    "else:\n",
    "    while number != 0:\n",
    "        number //= 10\n",
    "        count += 1\n",
    "\n",
    "print(\"Number of digits:\", count)"
   ]
  },
  {
   "cell_type": "code",
   "execution_count": 88,
   "id": "cabe3048",
   "metadata": {},
   "outputs": [
    {
     "name": "stdout",
     "output_type": "stream",
     "text": [
      "Enter an integer: 100\n",
      "Number of digits: 3\n"
     ]
    }
   ],
   "source": [
    "#for loop\n",
    "number = int(input(\"Enter an integer: \"))\n",
    "count = 0\n",
    "if number == 0:\n",
    "    count = 1\n",
    "else:\n",
    "    for digit in str(abs(number)):\n",
    "        count += 1\n",
    "print(\"Number of digits:\", count)"
   ]
  },
  {
   "cell_type": "markdown",
   "id": "027ccd08",
   "metadata": {},
   "source": [
    "### 45)Sum of Resistance in Series Circuits\n",
    "When resistors are connected together in series, the same current passes through each resistor in the chain and the total resistance, RT, of the circuit must be equal to the sum of all the individual resistors added together. That is:\n",
    "\n",
    "RT = R1 + R2 + R3 ...\n",
    "\n",
    "Create a function that takes an array of values resistance that are connected in series, and calculates the total resistance of the circuit in ohms. The ohm is the standard unit of electrical resistance in the International System of Units ( SI ).\n",
    "\n",
    "Examples\n",
    "\n",
    "series_resistance([1, 5, 6, 3]) ➞ \"15 ohms\"\n",
    "\n",
    "series_resistance([16, 3.5, 6]) ➞ \"25.5 ohms\"\n",
    "\n",
    "series_resistance([0.5, 0.5]) ➞ \"1.0 ohm\""
   ]
  },
  {
   "cell_type": "code",
   "execution_count": 2,
   "id": "80b4b7c4",
   "metadata": {},
   "outputs": [
    {
     "name": "stdout",
     "output_type": "stream",
     "text": [
      "15\n"
     ]
    }
   ],
   "source": [
    "#while loop\n",
    "x = [1, 5, 6, 3]\n",
    "resistance = 0\n",
    "index = 0\n",
    "while index < len(x):\n",
    "    resistance += x[index]\n",
    "    index += 1\n",
    "print(resistance)"
   ]
  },
  {
   "cell_type": "code",
   "execution_count": 11,
   "id": "b5865fe8",
   "metadata": {},
   "outputs": [
    {
     "name": "stdout",
     "output_type": "stream",
     "text": [
      "15\n"
     ]
    }
   ],
   "source": [
    "#for loop\n",
    "x = [1, 5, 6, 3]\n",
    "resistance = 0\n",
    "for i in x:\n",
    "    resistance += i\n",
    "print(resistance)"
   ]
  },
  {
   "cell_type": "markdown",
   "id": "1a9d6e4c",
   "metadata": {},
   "source": [
    "### 46)Instant JAZZ\n",
    "Create a function which concatenates the number 7 to the end of every chord in a list. Ignore all chords which already end with 7.\n",
    "\n",
    "Examples\n",
    "\n",
    "jazzify([\"G\", \"F\", \"C\"]) ➞ [\"G7\", \"F7\", \"C7\"]\n",
    "\n",
    "jazzify([\"Dm\", \"G\", \"E\", \"A\"]) ➞ [\"Dm7\", \"G7\", \"E7\", \"A7\"]\n",
    "\n",
    "jazzify([\"F7\", \"E7\", \"A7\", \"Ab7\", \"Gm7\", \"C7\"]) ➞ [\"F7\", \"E7\", \"A7\", \"Ab7\", \"Gm7\", \"C7\"]\n",
    "\n",
    "jazzify([]) ➞ []\n"
   ]
  },
  {
   "cell_type": "code",
   "execution_count": 14,
   "id": "ef43b109",
   "metadata": {},
   "outputs": [
    {
     "name": "stdout",
     "output_type": "stream",
     "text": [
      "['G7', 'F7', 'C7']\n"
     ]
    }
   ],
   "source": [
    "#while loop\n",
    "x = [\"G\", \"F\", \"C\"]\n",
    "z = []\n",
    "index = 0\n",
    "while index < len(x):\n",
    "    z.append(x[index] + \"7\")\n",
    "    index += 1\n",
    "print(z)"
   ]
  },
  {
   "cell_type": "code",
   "execution_count": 20,
   "id": "945ab3ca",
   "metadata": {},
   "outputs": [
    {
     "name": "stdout",
     "output_type": "stream",
     "text": [
      "['G7', 'F7', 'C7']\n"
     ]
    }
   ],
   "source": [
    "#for loop\n",
    "x = [\"G\", \"F\", \"C\"]\n",
    "z = []\n",
    "for i in x:\n",
    "    z.append(i+\"7\")\n",
    "print(z)"
   ]
  },
  {
   "cell_type": "markdown",
   "id": "1be575a5",
   "metadata": {},
   "source": [
    "### 47)Hamming Distance\n",
    "Hamming distance is the number of characters that differ between two strings.\n",
    "\n",
    "To illustrate:\n",
    "\n",
    "String1: \"abcbba\"\n",
    "\n",
    "String2: \"abcbda\"\n",
    "\n",
    "Hamming Distance: 1 - \"b\" vs. \"d\" is the only difference.\n",
    "\n",
    "Create a function that computes the hamming distance between two strings.\n",
    "\n",
    "Examples\n",
    "\n",
    "hamming_distance(\"abcde\", \"bcdef\") ➞ 5\n",
    "\n",
    "hamming_distance(\"abcde\", \"abcde\") ➞ 0\n",
    "\n",
    "hamming_distance(\"strong\", \"strung\") ➞ 1"
   ]
  },
  {
   "cell_type": "code",
   "execution_count": 22,
   "id": "34cd6e4e",
   "metadata": {},
   "outputs": [
    {
     "name": "stdout",
     "output_type": "stream",
     "text": [
      "5\n"
     ]
    }
   ],
   "source": [
    "#while loop\n",
    "x, y = \"abcde\", \"bcdef\"\n",
    "count = 0\n",
    "index = 0\n",
    "while index < len(x):\n",
    "    if x[index] != y[index]:\n",
    "        count += 1\n",
    "    index += 1\n",
    "print(count)"
   ]
  },
  {
   "cell_type": "code",
   "execution_count": 21,
   "id": "7d5f0db8",
   "metadata": {},
   "outputs": [
    {
     "name": "stdout",
     "output_type": "stream",
     "text": [
      "5\n"
     ]
    }
   ],
   "source": [
    "#for loop\n",
    "x, y = \"abcde\", \"bcdef\"\n",
    "count = 0\n",
    "for i in range(0,len(x)):\n",
    "    if x[i] != y[i]:\n",
    "        count += 1\n",
    "print(count)"
   ]
  },
  {
   "cell_type": "markdown",
   "id": "cbb6fbd9",
   "metadata": {},
   "source": [
    "### 48)Find the Average of the Letters\n",
    "Create a function that returns the average of a list composed of letters. First, find the number of the letter in the alphabet in order to find the average of the list.\n",
    "\n",
    "A = 1\n",
    "\n",
    "B = 2\n",
    "\n",
    "C = 3\n",
    "\n",
    "D = 4\n",
    "\n",
    "E = 5\n",
    "\n",
    "average = total sum of all numbers / number of item in the set\n",
    "\n",
    "Return the result rounded to two decimal points.\n",
    "\n",
    "Examples\n",
    "\n",
    "average_index([\"a\", \"b\", \"c\", \"i\"]) ➞ 3.75\n",
    "\n",
    "average_index([\"e\", \"d\", \"a\", \"b\", \"i\", \"t\"]) ➞ 6.83\n",
    "\n",
    "average_index([\"y\", \"o\", \"u\", \"a\", \"r\", \"e\", \"t\", \"h\", \"e\", \"b\", \"e\", \"s\", \"t\"]) ➞"
   ]
  },
  {
   "cell_type": "code",
   "execution_count": 25,
   "id": "f0e213ef",
   "metadata": {},
   "outputs": [
    {
     "name": "stdout",
     "output_type": "stream",
     "text": [
      "3.75\n"
     ]
    }
   ],
   "source": [
    "#while loop\n",
    "letter_list = [\"a\", \"b\", \"c\", \"i\"]\n",
    "total_sum = 0\n",
    "count = 0\n",
    "i = 0\n",
    "while i < len(letter_list):\n",
    "    letter_number = ord(letter_list[i].lower()) - ord('a') + 1\n",
    "    total_sum += letter_number\n",
    "    count += 1\n",
    "    i += 1\n",
    "average = total_sum / count\n",
    "rounded_average = round(average, 2)\n",
    "print(rounded_average)  "
   ]
  },
  {
   "cell_type": "code",
   "execution_count": 27,
   "id": "ed011650",
   "metadata": {},
   "outputs": [
    {
     "name": "stdout",
     "output_type": "stream",
     "text": [
      "3.75\n"
     ]
    }
   ],
   "source": [
    "#for loop\n",
    "letter_list = [\"a\", \"b\", \"c\", \"i\"]\n",
    "total_sum = 0\n",
    "count = 0\n",
    "for letter in letter_list:\n",
    "    letter_number = ord(letter.lower()) - ord('a') + 1\n",
    "    total_sum += letter_number\n",
    "    count += 1\n",
    "average = total_sum / count\n",
    "rounded_average = round(average, 2)\n",
    "print(rounded_average)"
   ]
  },
  {
   "cell_type": "markdown",
   "id": "f6e66b31",
   "metadata": {},
   "source": [
    "### 49)Omnipresent Value\n",
    "A value is omnipresent if it exists in every sublist inside the main list.\n",
    "\n",
    "To illustrate:\n",
    "\n",
    "[[3, 4], [8, 3, 2], [3], [9, 3], [5, 3], [4, 3]]\n",
    "\n",
    "3 exists in every element inside this list, so is omnipresent.\n",
    "\n",
    "Create a function that determines whether an input value is omnipresent for a given list.\n",
    "\n",
    "Examples\n",
    "\n",
    "is_omnipresent([[1, 1], [1, 3], [5, 1], [6, 1]], 1) ➞ True\n",
    "\n",
    "is_omnipresent([[1, 1], [1, 3], [5, 1], [6, 1]], 6) ➞ False\n",
    "\n",
    "is_omnipresent([[5], [5], [5], [6, 5]], 5) ➞ True\n",
    "\n",
    "is_omnipresent([[5], [5], [5], [6, 5]], 6) ➞ False"
   ]
  },
  {
   "cell_type": "code",
   "execution_count": 28,
   "id": "e2895778",
   "metadata": {},
   "outputs": [
    {
     "name": "stdout",
     "output_type": "stream",
     "text": [
      "True\n"
     ]
    }
   ],
   "source": [
    "main_list = [[1, 1], [1, 3], [5, 1], [6, 1]]\n",
    "input_value = 1\n",
    "\n",
    "is_omnipresent = True\n",
    "i = 0\n",
    "\n",
    "while i < len(main_list):\n",
    "    if input_value not in main_list[i]:\n",
    "        is_omnipresent = False\n",
    "        break\n",
    "    i += 1\n",
    "\n",
    "print(is_omnipresent)  "
   ]
  },
  {
   "cell_type": "code",
   "execution_count": 29,
   "id": "d60c3b66",
   "metadata": {},
   "outputs": [
    {
     "name": "stdout",
     "output_type": "stream",
     "text": [
      "True\n"
     ]
    }
   ],
   "source": [
    "main_list = [[1, 1], [1, 3], [5, 1], [6, 1]]\n",
    "input_value = 1\n",
    "\n",
    "is_omnipresent = True\n",
    "\n",
    "for sublist in main_list:\n",
    "    if input_value not in sublist:\n",
    "        is_omnipresent = False\n",
    "        break\n",
    "\n",
    "print(is_omnipresent)"
   ]
  },
  {
   "cell_type": "markdown",
   "id": "9cd857ae",
   "metadata": {},
   "source": [
    "### 50)Check Factors\n",
    "Write a function that returns True if all integers in a list are factors of a number, and False otherwise.\n",
    "\n",
    "Examples\n",
    "\n",
    "check_factors([2, 3, 4], 12) ➞ True\n",
    "\n",
    "Since 2, 3, and 4 are all factors of 12.\n",
    "check_factors([1, 2, 3, 8], 12) ➞ False\n",
    "\n",
    "8 is not a factor of 12.\n",
    "check_factors([1, 2, 50], 100) ➞ True\n",
    "\n",
    "check_factors([3, 6], 9) ➞ False"
   ]
  },
  {
   "cell_type": "code",
   "execution_count": 30,
   "id": "eb31d9f1",
   "metadata": {},
   "outputs": [
    {
     "name": "stdout",
     "output_type": "stream",
     "text": [
      "True\n"
     ]
    }
   ],
   "source": [
    "num  = [2, 3, 4]\n",
    "fact = 12\n",
    "\n",
    "are_fact = True\n",
    "for n in num:\n",
    "    if fact % n != 0:\n",
    "        are_fact = False\n",
    "        break\n",
    "\n",
    "print(are_fact)"
   ]
  },
  {
   "cell_type": "code",
   "execution_count": 31,
   "id": "2a43a785",
   "metadata": {},
   "outputs": [
    {
     "name": "stdout",
     "output_type": "stream",
     "text": [
      "True\n"
     ]
    }
   ],
   "source": [
    "num = [2, 3, 4]\n",
    "fact = 12\n",
    "are_fact = True\n",
    "i = 0\n",
    "while i < len(num):\n",
    "    if fact % num[i] != 0:\n",
    "        are_fact = False\n",
    "        break\n",
    "    i += 1\n",
    "print(are_fact)"
   ]
  }
 ],
 "metadata": {
  "kernelspec": {
   "display_name": "Python 3 (ipykernel)",
   "language": "python",
   "name": "python3"
  },
  "language_info": {
   "codemirror_mode": {
    "name": "ipython",
    "version": 3
   },
   "file_extension": ".py",
   "mimetype": "text/x-python",
   "name": "python",
   "nbconvert_exporter": "python",
   "pygments_lexer": "ipython3",
   "version": "3.11.4"
  }
 },
 "nbformat": 4,
 "nbformat_minor": 5
}
